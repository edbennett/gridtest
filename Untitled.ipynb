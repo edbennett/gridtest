{
 "cells": [
  {
   "cell_type": "code",
   "execution_count": 1,
   "id": "059951d5-c737-4b98-ba55-51aeba6f7ea8",
   "metadata": {},
   "outputs": [],
   "source": [
    "from grid import Grid"
   ]
  },
  {
   "cell_type": "code",
   "execution_count": 3,
   "id": "07d8207d-5aa0-4264-a5a8-3f0cff4d28c4",
   "metadata": {},
   "outputs": [],
   "source": [
    "grid = Grid(10, 10)\n",
    "grid.fill(0, 0)\n",
    "assert grid.nFilled() == 1"
   ]
  },
  {
   "cell_type": "code",
   "execution_count": 4,
   "id": "0a01990c-409f-486e-8ce5-24fbacfe353d",
   "metadata": {},
   "outputs": [],
   "source": [
    "grid.fill(3, 7)\n",
    "assert grid.nFilled() == 2"
   ]
  },
  {
   "cell_type": "code",
   "execution_count": 5,
   "id": "621c6d5a-39c0-4971-8e19-4f115608e1b8",
   "metadata": {},
   "outputs": [],
   "source": [
    "grid.empty(0, 0)\n",
    "assert grid.nFilled() == 1"
   ]
  },
  {
   "cell_type": "code",
   "execution_count": 6,
   "id": "82174da9-0ce1-47a6-9164-349533d9ca28",
   "metadata": {},
   "outputs": [],
   "source": [
    "assert grid.cell(3, 7).occupied()"
   ]
  },
  {
   "cell_type": "code",
   "execution_count": 7,
   "id": "0af85f47-66b2-42ad-b682-eecff8f0adce",
   "metadata": {},
   "outputs": [],
   "source": [
    "assert not grid.cell(0, 0).occupied()"
   ]
  },
  {
   "cell_type": "code",
   "execution_count": null,
   "id": "d032a366-4b6d-4d91-9690-680678add26e",
   "metadata": {},
   "outputs": [],
   "source": []
  }
 ],
 "metadata": {
  "kernelspec": {
   "display_name": "Python 3 (ipykernel)",
   "language": "python",
   "name": "python3"
  },
  "language_info": {
   "codemirror_mode": {
    "name": "ipython",
    "version": 3
   },
   "file_extension": ".py",
   "mimetype": "text/x-python",
   "name": "python",
   "nbconvert_exporter": "python",
   "pygments_lexer": "ipython3",
   "version": "3.10.4"
  }
 },
 "nbformat": 4,
 "nbformat_minor": 5
}
